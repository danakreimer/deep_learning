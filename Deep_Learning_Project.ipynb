{
  "nbformat": 4,
  "nbformat_minor": 0,
  "metadata": {
    "colab": {
      "name": "Deep Learning Project.ipynb",
      "provenance": [],
      "collapsed_sections": [],
      "include_colab_link": true
    },
    "kernelspec": {
      "name": "python3",
      "display_name": "Python 3"
    },
    "language_info": {
      "name": "python"
    },
    "accelerator": "GPU"
  },
  "cells": [
    {
      "cell_type": "markdown",
      "metadata": {
        "id": "view-in-github",
        "colab_type": "text"
      },
      "source": [
        "<a href=\"https://colab.research.google.com/github/danakreimer/deep_learning/blob/main/Deep_Learning_Project.ipynb\" target=\"_parent\"><img src=\"https://colab.research.google.com/assets/colab-badge.svg\" alt=\"Open In Colab\"/></a>"
      ]
    },
    {
      "cell_type": "markdown",
      "source": [
        "# **Deep Learning final project**\n",
        "\n",
        "\n",
        "\n",
        "#### **Bar Ilan university, semester A, 2022**\n",
        "\n",
        "\n",
        "\n",
        "#### **David Dorfman, Dana Kraimer**\n",
        "\n",
        "\n",
        "\n",
        "First of all, download the datasets from the following link into your \"MyDrive\" folder: https://drive.google.com/file/d/18wEBdJhGKdkx6YbkdkYziJrXj4mMmkVV/view?usp=sharing\n",
        "\n",
        "Then, download the model's pre-trained weights using the following link: https://drive.google.com/drive/folders/1xT9W0xU4UAwi3dIarLz3UEzylas4kYDZ?usp=sharing\n",
        "\n",
        "\n",
        "To evaluate a photo, change the args_dict like so:\n",
        "1. change 'only_evaluate' to True\n",
        "2. change 'best_model_path' to the needed model (moent/photo) path ('./out/context_encoder_training/run_53' for ex)\n",
        "3. change 'train_test_split_pct' to 0\n",
        "4. change 'masking_mode' to 'mask_file'\n",
        "5. put your mask file in the masks folder and put the name of the file in the variable 'mask_file': '<mask-filename>.png/jpg'\n",
        "6. put the test images in a folder - ./data/test/test/\n",
        "7. change 'dataset' to 'test'\n",
        "\n",
        "To train a model, change the args_dict like so:\n",
        "1. change 'only_evaluate' to False\n",
        "2. change 'train_test_split_pct' to 8/10\n",
        "3. change 'dataset' to be either 'Photo' or 'Monet'\n",
        "to train a center model change 'masking_mode' to 'center'\n",
        "to train a single mask file:\n",
        "  * change 'masking_mode' to 'mask_file'\n",
        "  * change 'mask_file' to the name of the specific mask in the masks folder\n",
        "to train many random masks from a folder:\n",
        "  * change 'masking_mode' to 'random_mask_file'\n",
        "  * change 'random_masks_folder' to a folder name that has many mask images ('masks' or 'masks_photo' for ex)\n",
        "\n",
        "how to run augmentations:\n",
        "* change 'augment_to_size' to the required images count (7037 to generate new\n",
        "augmented photos so that there are 7037 files in the folder)\n",
        "* change 'augment_to_size' to None to prevent augmentation\n",
        "* to change the amount of operations done in each augmentation, change 'augmentation_operations' to the required amount\n",
        "\n",
        "A few important notes:\n",
        "1. When testing the trained models over the test set it is not possible to use the same mask as the masks that were used while using the photo/Monet data-set. The masks that should be used are have to be masks that are specificly customized for the test set.\n",
        "2. When the train process is being preformed, we recommend downloading the data-set and extracting it from the zip file using the second code cell below, even though you have the data-set saved on your Google Drive. The reason is that our project uses a specific format of repositories which is necessary for it to run smoothly. \n",
        "If you are not interested in performing the extraction process, we recommend to orgnize the data-set files in the following order:\n",
        "\n",
        "\n",
        "* data\n",
        "\n",
        "  ** monet_jpg\n",
        "\n",
        "        *** monet_jpg\n",
        "        - 0a0c3a6d07.jpg\n",
        "        - 0a0d3e6ea7.jpg\n",
        "        .\n",
        "        .\n",
        "        .\n",
        "\n",
        "  ** photo_jpg\n",
        "\n",
        "        *** photo_jpg\n",
        "        - 0a0c3a6d07.jpg\n",
        "        - 0a0d3e6ea7.jpg\n",
        "        .\n",
        "        .\n",
        "        .\n",
        "\n",
        "These are the results of running the test and validation sets:\n",
        "\n",
        "https://drive.google.com/drive/folders/1MqHCvvsby1sE_wiUCIfvTvM5ejOy6sxP?usp=sharing\n",
        "\n",
        " **********************************************************************\n",
        "\n",
        "We had an amazing experience working on this project and learned so much in the process, \n",
        "\n",
        "hope you enjoy the outcome! "
      ],
      "metadata": {
        "id": "4315a8YUUHKS"
      }
    },
    {
      "cell_type": "code",
      "execution_count": null,
      "metadata": {
        "id": "rkFTILEqQotP"
      },
      "outputs": [],
      "source": [
        "import os\n",
        "import sys\n",
        "import json\n",
        "import numpy as np\n",
        "from argparse import Namespace\n",
        "import random\n",
        "import torch\n",
        "import logging\n",
        "from torch.utils.tensorboard import SummaryWriter\n",
        "from torchvision import transforms\n",
        "from torchvision.utils import save_image, make_grid\n",
        "import torchvision.transforms.functional as tfF\n",
        "from torch.utils.data import Sampler, WeightedRandomSampler, RandomSampler, Dataset, DataLoader\n",
        "import torch.nn.functional as F\n",
        "from torch.optim import Optimizer, Adam\n",
        "import torch.nn as nn\n",
        "from tqdm import tqdm\n",
        "from typing import Dict, List, Union, Callable, Optional\n",
        "from PIL import Image, ImageDraw, ImageOps, ImageEnhance\n",
        "import matplotlib.pyplot as plt\n",
        "from google.colab import drive"
      ]
    },
    {
      "cell_type": "markdown",
      "source": [
        "# Loading the data sets into google drive and initiallizing the logger"
      ],
      "metadata": {
        "id": "LKm2ZaFQRMgZ"
      }
    },
    {
      "cell_type": "code",
      "source": [
        "drive.mount('/content/drive', force_remount=True)\n",
        "sys.path.append('/content/drive/MyDrive')\n",
        "!unzip \"/content/drive/MyDrive/data.zip\" -d \"/content/drive/MyDrive/\"\n",
        "logger = logging.getLogger()"
      ],
      "metadata": {
        "id": "fv_jAdBbRNDr",
        "colab": {
          "base_uri": "https://localhost:8080/"
        },
        "outputId": "cc32a760-d8e3-4375-cd44-0d45d419984e"
      },
      "execution_count": null,
      "outputs": [
        {
          "output_type": "stream",
          "name": "stdout",
          "text": [
            "Mounted at /content/drive\n"
          ]
        }
      ]
    },
    {
      "cell_type": "markdown",
      "source": [
        "# Model hyperparameters and settings"
      ],
      "metadata": {
        "id": "2xrD6FVrRP6n"
      }
    },
    {
      "cell_type": "code",
      "source": [
        "args_dict = {\n",
        "    'only_evaluate': True,  # True - runs best model on the dataset, False - trains & validates a model\n",
        "    'best_model_path': '/content/drive/MyDrive/Deep Learning/models/model_photo',  # the path to the model when using only_evaluate\n",
        "    'epochs': 50,  # num of epochs\n",
        "    'train_test_split_pct': 0,  # how to split the dataset between train/test (set to 0 for all photos)\n",
        "    'image_size': 128,  # the image size to resize to\n",
        "    'masking_mode': 'mask_file',  # can be 'center', 'cubes', 'random', 'mask_file', 'random_mask_file'\n",
        "    'mask_file': '1.jpeg_mask_central_block_.jpg',  # mask_randomRegion_1920.png',  # None for a random mask (masking_mode = mask_file)\n",
        "    'random_masks_folder': 'masks',\n",
        "    'mask_area': 0.25,  # the area of the mask for random generation (masking_mode = random)\n",
        "    'dataset': 'test',  # data set name 'Photo' | 'Monet' | 'photo_test'\n",
        "    'data_dir': '/content/drive/MyDrive/Project/data/',\n",
        "    'show_graphs': False,\n",
        "    'show_plots': True,\n",
        "    'dataset_folder': None,  # none to inherit\n",
        "    'batch_size': 64,  # the batch size\n",
        "    'patch_loss': False,  # should use only the patch for loss or the entire image\n",
        "    'device': 'cuda' if torch.cuda.is_available() else 'cpu',\n",
        "    'augment_to_size': None,  # the amount of augmented images to create for each image\n",
        "    'augmentation_operations': 1,\n",
        "    'mask_color_dim1': 2 * 117.0 / 255.0 - 1.0,\n",
        "    'mask_color_dim2': 2 * 104.0 / 255.0 - 1.0,\n",
        "    'mask_color_dim3': 2 * 123.0 / 255.0 - 1.0,\n",
        "    'num_validation': 1,\n",
        "    'out_dir': '/content/drive/MyDrive/out',\n",
        "    'beta1': 0.5,\n",
        "    'beta2': 0.999,\n",
        "    'bottleneck': 4000,\n",
        "    'checkpoint_interval': 50,\n",
        "    'ema_decay': 0.999,\n",
        "    'initial_indices': None,\n",
        "    'is_pct': False,\n",
        "    'iters_per_epoch': 1024,\n",
        "    'lr': 0.0002,\n",
        "    'max_pattern_size': 10000,\n",
        "    'num_workers': 0,\n",
        "    'overlap': 0,\n",
        "    'overlap_weight_multiplier': 10,\n",
        "    'draw_progress_bar': True,\n",
        "    'pin_memory': False,\n",
        "    'polyaxon': False,\n",
        "    'pretrained': False,\n",
        "    'random_seed': False,\n",
        "    'resolution': 0.03,\n",
        "    'resume': '',\n",
        "    'save': False,\n",
        "    'seed': 65,\n",
        "    'trainable_layers': [],\n",
        "    'w_rec': 0.999,\n",
        "    'weighted_sampling': False,\n",
        "}\n",
        "\n",
        "dataset_folders = {\n",
        "    'Monet': 'monet_jpg',\n",
        "    'Photo': 'photo_jpg'\n",
        "}\n",
        "\n",
        "args_dict['dataset_folder'] = dataset_folders[args_dict['dataset']] if args_dict['dataset'] in dataset_folders else f\"{args_dict['dataset']}\"\n",
        "args_dict['mask_size'] = int(np.sqrt(args_dict['mask_area']) * args_dict['image_size'])\n",
        "args_dict['random_masking'] = args_dict['masking_mode'] == 'random' or args_dict['masking_mode'] == 'mask_file' or args_dict['masking_mode'] == 'random_mask_file'\n",
        "args = Namespace(**args_dict)\n",
        "torch.device(args.device)\n"
      ],
      "metadata": {
        "id": "PAOqu1XyRQxE",
        "colab": {
          "base_uri": "https://localhost:8080/"
        },
        "outputId": "69b786b9-f21a-482e-c03f-be3940cf16e6"
      },
      "execution_count": null,
      "outputs": [
        {
          "output_type": "execute_result",
          "data": {
            "text/plain": [
              "device(type='cuda')"
            ]
          },
          "metadata": {},
          "execution_count": 3
        }
      ]
    },
    {
      "cell_type": "markdown",
      "source": [
        "# Dataset loader and custom subset classes"
      ],
      "metadata": {
        "id": "RcSiWpbCRSdv"
      }
    },
    {
      "cell_type": "code",
      "source": [
        "class JPEGDataset(Dataset):\n",
        "    def __init__(self,\n",
        "                root: str,\n",
        "                train: bool,\n",
        "                transform: Optional[Callable] = None,\n",
        "                target_transform: Optional[Callable] = None,\n",
        "                download: bool = False,\n",
        "                train_split_pct: float = args.train_test_split_pct,\n",
        "                img_size: int = 128,\n",
        "                dataset_folder: str = args.dataset_folder):\n",
        "        self.root = root\n",
        "        self.train = train\n",
        "        self.train_split = train_split_pct\n",
        "        self.data = []\n",
        "        self.targets = []\n",
        "        self.classes = []\n",
        "        self.classes_to_idx = {}\n",
        "        self.img_size = img_size\n",
        "        self.dataset_folder = dataset_folder\n",
        "        self.load_images()\n",
        "        self.transform = transform\n",
        "        self.target_transform = target_transform\n",
        "\n",
        "    def load_images(self):\n",
        "        base_path = os.path.join(self.root, self.dataset_folder)\n",
        "        if not os.path.exists(base_path):\n",
        "            raise RuntimeError(\"Dataset not found! Please place ensure data set is present at {}\".format(base_path))\n",
        "        self.classes = sorted(os.listdir(base_path))\n",
        "        self.classes_to_idx = {image_class: idx for idx, image_class in enumerate(self.classes)}\n",
        "        for image_class in self.classes:\n",
        "            class_paths = list(\n",
        "                map(\n",
        "                    lambda x: os.path.join(base_path, image_class, x),\n",
        "                    filter(\n",
        "                        lambda x: x.endswith(\".jpg\"),\n",
        "                        sorted(os.listdir(os.path.join(base_path, image_class))),\n",
        "                    )\n",
        "                )\n",
        "            )\n",
        "            split_idx = int(len(class_paths) * self.train_split)\n",
        "            split_image_paths = class_paths[:split_idx] if self.train else class_paths[split_idx:]\n",
        "            self.data.extend(split_image_paths)\n",
        "            self.targets.extend(len(split_image_paths) * [self.classes_to_idx[image_class]])\n",
        "\n",
        "    def __getitem__(self, index):\n",
        "        img, target = self.data[index], self.targets[index]\n",
        "        img = transforms.Resize((self.img_size, self.img_size))(Image.open(img).convert(\"RGB\"))\n",
        "        if self.transform is not None:\n",
        "            img = self.transform(img)\n",
        "        if self.target_transform is not None:\n",
        "            target = self.target_transform(target)\n",
        "        return img, target\n",
        "    def __len__(self):\n",
        "        return len(self.targets)\n",
        "\n",
        "\n",
        "class CustomSubset(Dataset):\n",
        "    def __init__(\n",
        "            self,\n",
        "            dataset: Dataset,\n",
        "            indices: List,\n",
        "            transform: Callable,\n",
        "            return_index: bool = False,\n",
        "    ):\n",
        "        self.indices = indices\n",
        "        self.dataset = dataset\n",
        "        self.transform = transform\n",
        "        try:\n",
        "            self.targets = [self.dataset.targets[idx] for idx in self.indices]\n",
        "        except AttributeError as ex:\n",
        "            self.targets = []\n",
        "        try:\n",
        "            self.classes = dataset.classes\n",
        "        except AttributeError as ex:\n",
        "            self.classes = []\n",
        "        self.return_index = return_index\n",
        "\n",
        "    def __getitem__(self, idx: int):\n",
        "        img, label = self.dataset[self.indices[idx]]\n",
        "        if self.return_index:\n",
        "            return self.transform(img), label, self.indices[idx]\n",
        "        else:\n",
        "            return self.transform(img), label\n",
        "\n",
        "    def __len__(self):\n",
        "        return len(self.indices)\n",
        "\n",
        "    def update_subset_indices(self, new_indices: List):\n",
        "        self.indices = new_indices\n",
        "        self.targets = [self.dataset.targets[idx] for idx in self.indices]"
      ],
      "metadata": {
        "id": "Sli_71O1RTFK"
      },
      "execution_count": null,
      "outputs": []
    },
    {
      "cell_type": "markdown",
      "source": [
        "# Program constants"
      ],
      "metadata": {
        "id": "a7hL_znFRRco"
      }
    },
    {
      "cell_type": "code",
      "source": [
        "NORMALIZATION_VARIABLES = {\n",
        "    \"Photo\": {\n",
        "        \"mean\": (0.4914, 0.4822, 0.4465),\n",
        "        \"std\": (0.2470, 0.2435, 0.2616)\n",
        "    },\n",
        "    \"Monet\": {\n",
        "        \"mean\": (0.4914, 0.4822, 0.4465),\n",
        "        \"std\": (0.2470, 0.2435, 0.2616)\n",
        "    },\n",
        "}\n",
        "\n",
        "DEFAULT_NORMALIZATION_VARIABLES = {\n",
        "        \"mean\": (0.4914, 0.4822, 0.4465),\n",
        "        \"std\": (0.2470, 0.2435, 0.2616)\n",
        "}\n",
        "\n",
        "DATASET_GETTERS = {\n",
        "    'Photo': JPEGDataset,\n",
        "    'Monet': JPEGDataset\n",
        "}\n",
        "\n",
        "IMG_SIZE = {\n",
        "    \"Photo\": 128,\n",
        "    \"Monet\": 128,\n",
        "}\n"
      ],
      "metadata": {
        "id": "IwB_Gl3JRR-P"
      },
      "execution_count": null,
      "outputs": []
    },
    {
      "cell_type": "markdown",
      "source": [
        "# Initializint output directories"
      ],
      "metadata": {
        "id": "U8PYROpVRTre"
      }
    },
    {
      "cell_type": "code",
      "source": [
        "def get_save_path():\n",
        "    save_dir = os.path.join(args.out_dir, \"context_encoder_training\")\n",
        "    os.makedirs(save_dir, exist_ok=True)\n",
        "    images_dir = os.path.join(args.out_dir, \"images\")\n",
        "    os.makedirs(images_dir, exist_ok=True)\n",
        "    num_existing_dirs = len(os.listdir(save_dir))\n",
        "    save_path = os.path.join(save_dir, \"run_{}\".format(num_existing_dirs))\n",
        "    os.makedirs(save_path, exist_ok=True)\n",
        "    return save_path"
      ],
      "metadata": {
        "id": "SF4P5BUrRUSV"
      },
      "execution_count": null,
      "outputs": []
    },
    {
      "cell_type": "markdown",
      "source": [
        "# Initializing logger and seed value"
      ],
      "metadata": {
        "id": "wn5ZJdyXRU_z"
      }
    },
    {
      "cell_type": "code",
      "source": [
        "def initialize_logger(save_path: str):\n",
        "    logger = logging.getLogger()\n",
        "    logging.basicConfig(filename=os.path.join(save_path, \"log.log\"),\n",
        "        format=\"%(asctime)s - %(levelname)s - %(name)s -   %(message)s\",\n",
        "        datefmt=\"%m/%d/%Y %H:%M:%S\",\n",
        "        level=logging.INFO)\n",
        "    console_handler = logging.StreamHandler(sys.stdout)\n",
        "    console_handler.setLevel(logging.INFO)\n",
        "    logger.addHandler(console_handler)\n",
        "\n",
        "\n",
        "def seed(random_seed: bool, seed: int):\n",
        "    seed = random.randint(0, 100) if random_seed else seed\n",
        "    random.seed(seed)\n",
        "    np.random.seed(seed)\n",
        "    torch.manual_seed(seed)\n",
        "    return seed"
      ],
      "metadata": {
        "id": "a87CmaSHRVcE"
      },
      "execution_count": null,
      "outputs": []
    },
    {
      "cell_type": "markdown",
      "source": [
        "# Saving the hyperparameters and other settings"
      ],
      "metadata": {
        "id": "rLlJifhHRV1t"
      }
    },
    {
      "cell_type": "code",
      "source": [
        "def save_args(args, save_path: str):\n",
        "    args_dict = vars(args)\n",
        "    args_file_path = os.path.join(save_path, \"args.json\")\n",
        "    with open(args_file_path, \"w\") as file:\n",
        "        json.dump(args_dict, file)"
      ],
      "metadata": {
        "id": "6-6lMXAJRWP_"
      },
      "execution_count": null,
      "outputs": []
    },
    {
      "cell_type": "markdown",
      "source": [
        "# Getters for the transforms dictionary, normilizer, datasets, sampler, base sets, uniform split, reweighted sampler and uniform sampler"
      ],
      "metadata": {
        "id": "qhor4puXRW1r"
      }
    },
    {
      "cell_type": "code",
      "source": [
        "def get_transform_dict(args):\n",
        "    transform = transforms.Compose([transforms.Resize((args.image_size, args.image_size)), get_normalizer(args.dataset)])\n",
        "    return {\"train\": transform, \"train_unlabeled\": None, \"test\": transform}\n",
        "\n",
        "\n",
        "def get_normalizer(dataset: str):\n",
        "    vars = NORMALIZATION_VARIABLES[dataset] if dataset in NORMALIZATION_VARIABLES else DEFAULT_NORMALIZATION_VARIABLES\n",
        "    return transforms.Compose([transforms.ToTensor(), transforms.Normalize(**vars)])\n",
        "\n",
        "\n",
        "def get_datasets(\n",
        "        root_dir: str,\n",
        "        dataset: str,\n",
        "        num_validation: float = 1,\n",
        "        is_pct: bool = False,\n",
        "        train_transform: Callable = None,\n",
        "        test_transform: Callable = None,\n",
        "        download: bool = True,\n",
        "        dataset_indices: Optional[List] = None\n",
        "):\n",
        "    base_set, test_set = get_base_sets(dataset, root_dir, download=download, test_transform=test_transform)\n",
        "    if is_pct:\n",
        "        num_validation = int(num_validation * len(base_set))\n",
        "    base_indices = list(range(len(base_set)))\n",
        "    if dataset_indices is None:\n",
        "        num_training = len(base_indices) - num_validation\n",
        "        train_indices, validation_indices = get_uniform_split(base_set.targets, base_indices, split_num=num_training)\n",
        "    else:\n",
        "        train_indices, validation_indices = dataset_indices[\"train_labeled\"], dataset_indices[\"validation\"]\n",
        "    train_set = CustomSubset(base_set, train_indices, transform=train_transform)\n",
        "    validation_set = CustomSubset(base_set, validation_indices, transform=test_transform)\n",
        "    return train_set, validation_set, test_set\n",
        "\n",
        "\n",
        "def get_sampler(\n",
        "    dataset: Dataset,\n",
        "    num_samples: int,\n",
        "    reweighted: bool = False,\n",
        "    median_freq: bool = False,\n",
        "    replacement: bool = True,\n",
        "):\n",
        "    if reweighted:\n",
        "        return get_reweighted_sampler(dataset.targets, num_samples, replacement, median_freq)\n",
        "    else:\n",
        "        return get_uniform_sampler(dataset, replacement, num_samples)\n",
        "\n",
        "\n",
        "def get_base_sets(dataset, root_dir, download=True, test_transform=None):\n",
        "    datset_class = DATASET_GETTERS[dataset] if dataset in DATASET_GETTERS else JPEGDataset\n",
        "    base_set = datset_class(root_dir, train=True, download=download)\n",
        "    test_set = datset_class(root_dir, train=False, download=download, transform=test_transform)\n",
        "    return base_set, test_set\n",
        "\n",
        "\n",
        "def get_uniform_split(targets: List, indices: List, split_pct: float = None, split_num: int = None):\n",
        "    if split_pct is not None:\n",
        "        samples_per_class = (split_pct * len(indices)) // len(np.unqiue(targets))\n",
        "    elif split_num is not None:\n",
        "        samples_per_class = split_num // len(np.unique(targets))\n",
        "    else:\n",
        "        raise ValueError('Expected either split_pct or split_num to be not None.')\n",
        "    split0_indices, split1_indices = [], []\n",
        "    for class_label in np.unique(targets):\n",
        "        class_indices = np.where(np.array(targets)[indices] == class_label)[0]\n",
        "        np.random.shuffle(class_indices)\n",
        "        split0_indices += list(class_indices[:samples_per_class])\n",
        "        split1_indices += list(class_indices[samples_per_class:])\n",
        "    split0_indices = np.array(indices)[split0_indices].tolist()\n",
        "    split1_indices = np.array(indices)[split1_indices].tolist()\n",
        "    if split_num is not None and len(split0_indices) < split_num:\n",
        "        tmp_indices = random.sample(split1_indices, split_num - len(split0_indices))\n",
        "        split0_indices += tmp_indices\n",
        "        split1_indices = np.setdiff1d(split1_indices, tmp_indices).tolist()\n",
        "    return split0_indices, split1_indices\n",
        "\n",
        "\n",
        "def get_reweighted_sampler(targets: List, num_samples: int, replacement: bool = True, median_freq: bool = False):\n",
        "    labels, counts = np.unique(targets, return_counts=True)\n",
        "    if not median_freq:\n",
        "        class_weights = 1 / (counts / np.sum(counts))\n",
        "    else:\n",
        "        class_weights = 1 / (counts / np.median(counts))\n",
        "    sample_weights = np.zeros(len(targets))\n",
        "    for class_label in labels:\n",
        "        sample_weights[np.array(targets) == class_label] = class_weights[\n",
        "            class_label\n",
        "        ]\n",
        "    num_samples = num_samples if replacement else len(targets)\n",
        "    return WeightedRandomSampler(sample_weights, num_samples=num_samples, replacement=replacement)\n",
        "\n",
        "\n",
        "def get_uniform_sampler(dataset: Dataset, replacement: bool = False, num_samples: int = None):\n",
        "    if replacement:\n",
        "        return RandomSampler(dataset, replacement=replacement, num_samples=num_samples)\n",
        "    else:\n",
        "        return RandomSampler(dataset, replacement=replacement)"
      ],
      "metadata": {
        "id": "hr7pzaSbRXNI"
      },
      "execution_count": null,
      "outputs": []
    },
    {
      "cell_type": "markdown",
      "source": [
        "# Saving the dataset indices"
      ],
      "metadata": {
        "id": "MA3H-Ov0RY2i"
      }
    },
    {
      "cell_type": "code",
      "source": [
        "def save_dataset_indices(\n",
        "        save_path: str,\n",
        "        train_set: Union[CustomSubset, Dict],\n",
        "        validation_set: CustomSubset,\n",
        "        file_name: str = \"indices.json\"):\n",
        "    label_file_path = os.path.join(save_path, file_name)\n",
        "    dataset_indices = {}\n",
        "    if isinstance(train_set, Dict):\n",
        "        for subset_name, subset in train_set.items():\n",
        "            dataset_indices[\"train_{}\".format(subset_name)] = list(map(lambda x: int(x), subset.indices))\n",
        "    else:\n",
        "        dataset_indices[\"train_labeled\"] = list(map(lambda x: int(x), train_set.indices))\n",
        "    dataset_indices[\"validation\"] = list(map(lambda x: int(x), validation_set.indices))\n",
        "    with open(label_file_path, \"w\") as file:\n",
        "        json.dump(dataset_indices, file)"
      ],
      "metadata": {
        "id": "UbzLN0ecRZT8"
      },
      "execution_count": null,
      "outputs": []
    },
    {
      "cell_type": "markdown",
      "source": [
        "# Creating the loaders"
      ],
      "metadata": {
        "id": "T1HwB_IgRZzO"
      }
    },
    {
      "cell_type": "code",
      "source": [
        "def create_loaders(\n",
        "    args,\n",
        "    train_dataset: Dataset,\n",
        "    validation_dataset: Dataset,\n",
        "    test_dataset: Dataset,\n",
        "    batch_size: int,\n",
        "    num_workers: int = 0,\n",
        "    total_iters: int = None,\n",
        "):\n",
        "    num_labeled_samples = len(train_dataset) if total_iters is None else total_iters * batch_size\n",
        "    train_loader = DataLoader(\n",
        "        train_dataset,\n",
        "        batch_size=batch_size,\n",
        "        sampler=get_sampler(\n",
        "            train_dataset,\n",
        "            num_samples=num_labeled_samples,\n",
        "            reweighted=args.weighted_sampling,\n",
        "        ),\n",
        "        num_workers=num_workers,\n",
        "        drop_last=False,\n",
        "        pin_memory=args.pin_memory\n",
        "    )\n",
        "    validation_loader = DataLoader(\n",
        "        validation_dataset,\n",
        "        batch_size=batch_size,\n",
        "        num_workers=num_workers,\n",
        "        shuffle=True,\n",
        "        pin_memory=args.pin_memory,\n",
        "    )\n",
        "    test_loader = DataLoader(\n",
        "        test_dataset,\n",
        "        batch_size=batch_size,\n",
        "        num_workers=num_workers,\n",
        "        shuffle=True,\n",
        "        pin_memory=args.pin_memory,\n",
        "    )\n",
        "    return train_loader, validation_loader, test_loader"
      ],
      "metadata": {
        "id": "SEsaS8EtRaXi"
      },
      "execution_count": null,
      "outputs": []
    },
    {
      "cell_type": "markdown",
      "source": [
        "# The builing blocks of the encoder, decoder and discriminator"
      ],
      "metadata": {
        "id": "wZfwGG1D7tZR"
      }
    },
    {
      "cell_type": "code",
      "source": [
        "class BasicBlock(nn.Module):\n",
        "    def __init__(\n",
        "            self,\n",
        "            in_planes: int,\n",
        "            out_planes: int,\n",
        "            kernel_size: int,\n",
        "            stride: int,\n",
        "            padding: int,\n",
        "    ):\n",
        "        super(BasicBlock, self).__init__()\n",
        "        self.layers = nn.Sequential()\n",
        "        self.layers.add_module(\n",
        "            \"Conv\",\n",
        "            nn.Conv2d(in_planes, out_planes, kernel_size, stride, padding, bias=False, device=args.device),\n",
        "        )\n",
        "        self.layers.add_module(\"BatchNorm\", nn.BatchNorm2d(out_planes, device=args.device))\n",
        "        self.layers.add_module(\"ReLU\", nn.LeakyReLU(0.2, inplace=True))\n",
        "\n",
        "    def forward(self, x):\n",
        "        return self.layers(x)\n",
        "\n",
        "\n",
        "class TransposeBlock(nn.Module):\n",
        "    def __init__(\n",
        "            self,\n",
        "            in_planes: int,\n",
        "            out_planes: int,\n",
        "            kernel_size: int,\n",
        "            stride: int,\n",
        "            padding: int,\n",
        "    ):\n",
        "        super(TransposeBlock, self).__init__()\n",
        "        self.layers = nn.Sequential()\n",
        "        self.layers.add_module(\n",
        "            \"TransposeConv\",\n",
        "            nn.ConvTranspose2d(\n",
        "                in_planes, out_planes, kernel_size, stride, padding, bias=False, device=args.device\n",
        "            ),\n",
        "        )\n",
        "        self.layers.add_module(\"BatchNorm\", nn.BatchNorm2d(out_planes, device=args.device))\n",
        "        self.layers.add_module(\"ReLU\", nn.ReLU(inplace=True))\n",
        "\n",
        "    def forward(self, x):\n",
        "        return self.layers(x)"
      ],
      "metadata": {
        "id": "2MMuF2fD7ty5"
      },
      "execution_count": null,
      "outputs": []
    },
    {
      "cell_type": "markdown",
      "source": [
        "# The generator model"
      ],
      "metadata": {
        "id": "lBVIGfwrXPZQ"
      }
    },
    {
      "cell_type": "code",
      "source": [
        "class ContextEncoder(nn.Module):\n",
        "    def __init__(self, bottleneck_dim=2048, in_channels=3, img_size=64):\n",
        "        super(ContextEncoder, self).__init__()\n",
        "        assert img_size in (32, 64, 128)\n",
        "        len_channel_sizes = 4 if img_size in (64, 128) else 3\n",
        "        nChannels = [64 * 2 ** i for i in range(len_channel_sizes)]\n",
        "        self.conv1 = nn.Conv2d(\n",
        "            in_channels, nChannels[0], kernel_size=4, stride=2, padding=1, bias=False, device=args.device\n",
        "        )\n",
        "        self.relu1 = nn.LeakyReLU(0.2, inplace=True)\n",
        "        blocks = []\n",
        "        if img_size == 128:\n",
        "            blocks.append(\n",
        "                BasicBlock(nChannels[0], nChannels[0], kernel_size=4, stride=2, padding=1)\n",
        "            )\n",
        "        blocks.extend([BasicBlock(nChannels[i], nChannels[i + 1], kernel_size=4, stride=2, padding=1) for i in range(len_channel_sizes - 1)])\n",
        "        self.blocks = nn.Sequential(*blocks)\n",
        "        self.conv_bottleneck = nn.Conv2d(nChannels[-1], bottleneck_dim, kernel_size=4, device=args.device)\n",
        "\n",
        "    def forward(self, x):\n",
        "        x = self.relu1(self.conv1(x))\n",
        "        x = self.blocks(x)\n",
        "        return self.conv_bottleneck(x)\n",
        "\n",
        "\n",
        "class ContextDecoder(nn.Module):\n",
        "    def __init__(self, bottleneck_dim=2048, out_channels=3, out_size: int = 64):\n",
        "        super(ContextDecoder, self).__init__()\n",
        "        assert out_size in (16, 32, 64, 128)\n",
        "        len_channel_sizes = 4 if out_size in (64, 128) else 3\n",
        "        nChannels = [64 * 2 ** i for i in range(len_channel_sizes - 1, -1, -1)]\n",
        "        self.bn1 = nn.BatchNorm2d(bottleneck_dim, device=args.device)\n",
        "        self.relu1 = nn.LeakyReLU(0.2, inplace=True)\n",
        "        self.bottleneck_block = TransposeBlock(\n",
        "            bottleneck_dim, nChannels[0], kernel_size=4, stride=1, padding=0\n",
        "        )\n",
        "        blocks = [\n",
        "            TransposeBlock(\n",
        "                nChannels[i], nChannels[i + 1], kernel_size=4, stride=2, padding=1\n",
        "            )\n",
        "            for i in range(len_channel_sizes - 1)\n",
        "        ]\n",
        "        if out_size == 128:\n",
        "            blocks.append(\n",
        "                TransposeBlock(\n",
        "                    nChannels[-1], nChannels[-1], kernel_size=4, stride=2, padding=1\n",
        "                )\n",
        "            )\n",
        "        self.blocks = nn.Sequential(*blocks)\n",
        "\n",
        "        self.final_conv = nn.ConvTranspose2d(\n",
        "            nChannels[-1], out_channels, kernel_size=4, stride=2, padding=1, bias=False, device=args.device\n",
        "        )\n",
        "        self.tanh = nn.Tanh()\n",
        "\n",
        "    def forward(self, x):\n",
        "        x = self.relu1(self.bn1(x))\n",
        "        x = self.bottleneck_block(x)\n",
        "        x = self.blocks(x)\n",
        "        return self.tanh(self.final_conv(x))\n",
        "\n",
        "\n",
        "class ContextGenerator(nn.Module):\n",
        "    def __init__(\n",
        "            self,\n",
        "            bottleneck_dim: int = 2048,\n",
        "            channels: int = 3,\n",
        "            img_size: int = 64,\n",
        "            out_size: int = 64,\n",
        "    ):\n",
        "        super(ContextGenerator, self).__init__()\n",
        "        self.encoder = ContextEncoder(\n",
        "            bottleneck_dim=bottleneck_dim, in_channels=channels, img_size=img_size\n",
        "        )\n",
        "        self.decoder = ContextDecoder(\n",
        "            bottleneck_dim=bottleneck_dim, out_channels=channels, out_size=out_size\n",
        "        )\n",
        "        \n",
        "    def forward(self, x):\n",
        "        x = self.encoder(x)\n",
        "        return self.decoder(x)\n"
      ],
      "metadata": {
        "id": "MehVePqKXP9-"
      },
      "execution_count": null,
      "outputs": []
    },
    {
      "cell_type": "markdown",
      "source": [
        "# The discriminator model"
      ],
      "metadata": {
        "id": "lTkvZgQcXQZ3"
      }
    },
    {
      "cell_type": "code",
      "source": [
        "class ContextDiscriminator(nn.Module):\n",
        "    def __init__(self, in_channels=3, input_size: int = 64):\n",
        "        super(ContextDiscriminator, self).__init__()\n",
        "        assert input_size in (32, 64, 128)\n",
        "        len_channel_sizes = 4 if input_size in (64, 128) else 3\n",
        "        nChannels = [64 * 2 ** i for i in range(len_channel_sizes)]\n",
        "        self.conv1 = nn.Conv2d(\n",
        "            in_channels, nChannels[0], kernel_size=4, stride=2, padding=1, bias=False\n",
        "        )\n",
        "        self.relu1 = nn.LeakyReLU(0.2, inplace=True)\n",
        "        blocks = []\n",
        "        if input_size == 128:\n",
        "            blocks.append(\n",
        "                BasicBlock(\n",
        "                    nChannels[0], nChannels[0], kernel_size=4, stride=2, padding=1\n",
        "                )\n",
        "            )\n",
        "        blocks.extend(\n",
        "            [\n",
        "                BasicBlock(\n",
        "                    nChannels[i], nChannels[i + 1], kernel_size=4, stride=2, padding=1\n",
        "                )\n",
        "                for i in range(len_channel_sizes - 1)\n",
        "            ]\n",
        "        )\n",
        "        self.blocks = nn.Sequential(*blocks)\n",
        "        self.final = nn.Conv2d(nChannels[-1], 1, kernel_size=4, bias=False)\n",
        "        self.sigmoid = nn.Sigmoid()\n",
        "\n",
        "    def forward(self, x):\n",
        "        x = self.relu1(self.conv1(x))\n",
        "        x = self.blocks(x)\n",
        "        x = self.sigmoid(self.final(x))\n",
        "        return x.squeeze()\n"
      ],
      "metadata": {
        "id": "i8DAVudTXQzy"
      },
      "execution_count": null,
      "outputs": []
    },
    {
      "cell_type": "markdown",
      "source": [
        "# Getters for the generator and the discriminator models, and for the optimizer"
      ],
      "metadata": {
        "id": "efpfcfFtXRXA"
      }
    },
    {
      "cell_type": "code",
      "source": [
        "def get_context_generator(bottleneck_dim, img_size: int = 64, out_size: int = 64, **kwargs):\n",
        "    return ContextGenerator(bottleneck_dim=bottleneck_dim, img_size=img_size, out_size=out_size)\n",
        "\n",
        "\n",
        "def get_context_discriminator(input_size: int = 64, **kwargs):\n",
        "    return ContextDiscriminator(input_size=input_size)\n",
        "\n",
        "\n",
        "MODEL_GETTERS = {\n",
        "    \"context_generator\": get_context_generator,\n",
        "    \"context_discriminator\": get_context_discriminator,\n",
        "}\n",
        "\n",
        "\n",
        "def get_optimizer(args, model):\n",
        "    return Adam(model.parameters(), lr=args.lr, betas=(args.beta1, args.beta2))"
      ],
      "metadata": {
        "id": "2uUgZUN8XRw7"
      },
      "execution_count": null,
      "outputs": []
    },
    {
      "cell_type": "markdown",
      "source": [
        "# Metrics"
      ],
      "metadata": {
        "id": "-v9Hknk2XSUc"
      }
    },
    {
      "cell_type": "code",
      "source": [
        "class AverageMeter:\n",
        "    def __init__(self):\n",
        "        self.reset()\n",
        "\n",
        "    def reset(self):\n",
        "        self.val = 0\n",
        "        self.vals = []\n",
        "        self.avg = 0\n",
        "        self.sum = 0\n",
        "        self.count = 0\n",
        "\n",
        "    def update(self, val, n=1):\n",
        "        self.val = val\n",
        "        self.vals.append(val)\n",
        "        self.sum += val * n\n",
        "        self.count += n\n",
        "        self.avg = self.sum / self.count\n",
        "\n",
        "    def __format__(self, format):\n",
        "        return \"{self.val:{format}} ({self.avg:{format}})\".format(self=self, format=format)\n",
        "\n",
        "\n",
        "class AverageMeterSet:\n",
        "    def __init__(self):\n",
        "        self.meters = {}\n",
        "\n",
        "    def __getitem__(self, key):\n",
        "        return self.meters[key]\n",
        "\n",
        "    def update(self, name, value, n=1):\n",
        "        if name not in self.meters:\n",
        "            self.meters[name] = AverageMeter()\n",
        "        self.meters[name].update(value, n)\n",
        "\n",
        "    def reset(self):\n",
        "        for meter in self.meters.values():\n",
        "            meter.reset()\n",
        "\n",
        "    def values(self, postfix=\"\"):\n",
        "        return {name + postfix: meter.val for name, meter in self.meters.items()}\n",
        "\n",
        "    def averages(self, postfix=\"/avg\"):\n",
        "        return {name + postfix: meter.avg for name, meter in self.meters.items()}\n",
        "\n",
        "    def sums(self, postfix=\"/sum\"):\n",
        "        return {name + postfix: meter.sum for name, meter in self.meters.items()}\n",
        "\n",
        "    def counts(self, postfix=\"/count\"):\n",
        "        return {name + postfix: meter.count for name, meter in self.meters.items()}\n"
      ],
      "metadata": {
        "id": "iZ79B63ZXS2t"
      },
      "execution_count": null,
      "outputs": []
    },
    {
      "cell_type": "markdown",
      "source": [
        "# Encoder initializer"
      ],
      "metadata": {
        "id": "LlqCivLzXTRO"
      }
    },
    {
      "cell_type": "code",
      "source": [
        "def context_encoder_init(m):\n",
        "    class_name = m.__class__.__name__\n",
        "    if class_name.find(\"Conv\") != -1:\n",
        "        m.weight.data.normal_(0.0, 0.02)\n",
        "    elif class_name.find(\"BatchNorm\") != -1:\n",
        "        m.weight.data.normal_(1.0, 0.02)\n",
        "        m.bias.data.fill_(0.0)"
      ],
      "metadata": {
        "id": "6dB3EOtLXT6m"
      },
      "execution_count": null,
      "outputs": []
    },
    {
      "cell_type": "markdown",
      "source": [
        "# Weighted Mean Squear Error loss function"
      ],
      "metadata": {
        "id": "F3YZH_nJXUZs"
      }
    },
    {
      "cell_type": "code",
      "source": [
        "def weighted_mse_loss(outputs, targets, weights):\n",
        "    return torch.mean(weights * (outputs - targets).pow(2))"
      ],
      "metadata": {
        "id": "WA7zgXKZXU79"
      },
      "execution_count": null,
      "outputs": []
    },
    {
      "cell_type": "markdown",
      "source": [
        "# Saving and loading a checkpoint"
      ],
      "metadata": {
        "id": "jGAxy40vXVbW"
      }
    },
    {
      "cell_type": "code",
      "source": [
        "def save_state(\n",
        "        epoch: int,\n",
        "        generator: torch.nn.Module,\n",
        "        discriminator: torch.nn.Module,\n",
        "        optim_g: torch.optim.Optimizer,\n",
        "        optim_d: torch.optim.Optimizer,\n",
        "        path: str,\n",
        "        filename: str = \"best_model.tar\",\n",
        "):\n",
        "    old_checkpoint_files = list(filter(lambda x: \"checkpoint\" in x, os.listdir(path)))\n",
        "    state_dict = {\n",
        "        \"epoch\": epoch,\n",
        "        \"generator_state_dict\": generator.state_dict(),\n",
        "        \"discriminator_state_dict\": discriminator.state_dict(),\n",
        "        \"optim_g\": optim_g.state_dict(),\n",
        "        \"optim_d\": optim_d.state_dict(),\n",
        "    }\n",
        "    file_path = os.path.join(path, filename)\n",
        "    logger.info(\"Save current state to {}\".format(filename))\n",
        "    torch.save(state_dict, file_path)\n",
        "    for file in old_checkpoint_files:\n",
        "        os.remove(os.path.join(path, file))\n",
        "\n",
        "\n",
        "def load_state(path: str, map_location=None):\n",
        "    loaded_state = torch.load(path, map_location=map_location)\n",
        "    logger.info(\"Loaded state from {} saved at epoch {}\".format(path, loaded_state[\"epoch\"]))\n",
        "    return loaded_state"
      ],
      "metadata": {
        "id": "gxYh_-8xXVyq"
      },
      "execution_count": null,
      "outputs": []
    },
    {
      "cell_type": "markdown",
      "source": [
        "# Random pattern generator"
      ],
      "metadata": {
        "id": "Temg-wLKjGAR"
      }
    },
    {
      "cell_type": "code",
      "source": [
        "def generate_random_pattern(mask_area: float, resolution: float, max_pattern_size: int):\n",
        "    pattern = torch.rand((int(resolution * max_pattern_size), int(resolution * max_pattern_size))).multiply_(255)\n",
        "    resized_pattern = F.interpolate(pattern[None, None, :, :], max_pattern_size, mode=\"bicubic\", align_corners=False)\n",
        "    resized_pattern = resized_pattern.squeeze().div_(255)\n",
        "    return torch.lt(resized_pattern, mask_area).bool()"
      ],
      "metadata": {
        "id": "tew_0ocrjGb_"
      },
      "execution_count": null,
      "outputs": []
    },
    {
      "cell_type": "markdown",
      "source": [
        "# Getter for the L2 weights"
      ],
      "metadata": {
        "id": "2xwIEnYqkAnh"
      }
    },
    {
      "cell_type": "code",
      "source": [
        "def get_l2_weights(args, prediction_size: torch.Size, masked_region: torch.Tensor = None):\n",
        "    if args.overlap != 0:\n",
        "        loss_weights = torch.empty(prediction_size).fill_(\n",
        "            args.w_rec * args.overlap_weight_multiplier\n",
        "        )\n",
        "        if not args.random_masking:\n",
        "            loss_weights[:, :, args.overlap:-args.overlap, args.overlap:-args.overlap] = args.w_rec\n",
        "        else:\n",
        "            loss_weights[:, :, masked_region] = args.w_rec\n",
        "    else:\n",
        "        if not args.random_masking:\n",
        "            loss_weights = torch.ones(prediction_size)\n",
        "        else:\n",
        "            loss_weights = torch.zeros(prediction_size)\n",
        "            loss_weights[:, :, masked_region] = args.w_rec\n",
        "    return loss_weights"
      ],
      "metadata": {
        "id": "cToN_NutkBD5"
      },
      "execution_count": null,
      "outputs": []
    },
    {
      "cell_type": "markdown",
      "source": [
        "# Getters for the masks"
      ],
      "metadata": {
        "id": "U5gAoY-RkBrb"
      }
    },
    {
      "cell_type": "code",
      "source": [
        "def get_center_block_mask(samples: torch.Tensor, mask_size: int, overlap: int):\n",
        "    img_size = samples.size()[-1]\n",
        "    center_index = (img_size - mask_size) // 2\n",
        "    masked_samples = samples.clone()\n",
        "    m1, m2 = center_index + overlap, center_index + mask_size - overlap\n",
        "    masked_samples[:, 0, m1:m2, m1:m2] = args.mask_color_dim1\n",
        "    masked_samples[:, 1, m1:m2, m1:m2] = args.mask_color_dim2\n",
        "    masked_samples[:, 2, m1:m2, m1:m2] = args.mask_color_dim3\n",
        "    true_masked_part = samples[:, :, center_index:center_index+mask_size, center_index:center_index+mask_size]\n",
        "    return masked_samples, true_masked_part, (center_index, center_index)\n",
        "\n",
        "\n",
        "def get_random_block_mask(samples: torch.Tensor, mask_size: int, overlap: int):\n",
        "    img_size = samples.size()[-1]\n",
        "    x, y = np.random.randint(0, img_size - mask_size, 2)\n",
        "    masked_samples = samples.clone()\n",
        "    masked_samples[:, 0, x+overlap: x+mask_size-overlap, y+overlap: y+mask_size-overlap] = \\\n",
        "        (args.mask_color_dim1)\n",
        "    masked_samples[:, 1, x+overlap: x+mask_size-overlap, y+overlap: y+mask_size-overlap] = \\\n",
        "        (args.mask_color_dim2)\n",
        "    masked_samples[:, 2, x+overlap: x+mask_size-overlap, y+overlap: y+mask_size-overlap] = \\\n",
        "        (args.mask_color_dim3)\n",
        "    true_masked_part = samples[:, :, x: x + mask_size, y: y + mask_size]\n",
        "    return masked_samples, true_masked_part, (x, y)\n",
        "\n",
        "\n",
        "def get_random_mask():\n",
        "    masks = os.listdir(\"/content/drive/MyDrive/\" + args.random_masks_folder)\n",
        "    random_mask = random.choice(masks)\n",
        "    return f\"/content/drive/MyDrive/{args.random_masks_folder}/{random_mask}\"\n",
        "\n",
        "\n",
        "def get_region_mask(samples: torch.Tensor):\n",
        "    mask_path = f\"/content/drive/MyDrive/masks/{args.mask_file}\" if args.masking_mode == 'mask_file' else get_random_mask()\n",
        "    mask = transforms.Resize((args.image_size, args.image_size), interpolation=tfF.InterpolationMode.NEAREST)(Image.open(mask_path).convert(\"L\"))\n",
        "    mask = torch.from_numpy(np.array(mask, dtype=np.float32))\n",
        "    mask = mask.bool()\n",
        "    masked_samples = samples.clone()\n",
        "    masked_samples[:, 0, mask] = args.mask_color_dim1\n",
        "    masked_samples[:, 1, mask] = args.mask_color_dim2\n",
        "    masked_samples[:, 2, mask] = args.mask_color_dim3\n",
        "    return masked_samples, mask\n",
        "\n",
        "\n",
        "def get_random_region_mask(\n",
        "        samples: torch.Tensor,\n",
        "        img_size: int,\n",
        "        mask_area: float,\n",
        "        global_random_pattern: torch.Tensor,\n",
        "):\n",
        "    while True:\n",
        "        x, y = np.random.randint(0, global_random_pattern.size()[0] - img_size, 2)\n",
        "        mask = global_random_pattern[x: x+img_size, y: y+img_size]\n",
        "        pattern_mask_area = mask.float().mean().item()\n",
        "        if mask_area / 1.25 < pattern_mask_area < mask_area * 1.25:\n",
        "            break\n",
        "    masked_samples = samples.clone()\n",
        "    masked_samples[:, 0, mask] = args.mask_color_dim1\n",
        "    masked_samples[:, 1, mask] = args.mask_color_dim2\n",
        "    masked_samples[:, 2, mask] = args.mask_color_dim3\n",
        "    return masked_samples, mask\n",
        "\n",
        "\n",
        "def mask_getter():\n",
        "    if args.masking_mode == 'center':\n",
        "        return get_center_block_mask\n",
        "    if args.masking_mode == 'cubes':\n",
        "        return get_random_block_mask\n",
        "    if args.masking_mode == 'mask_file' or args.masking_mode == 'random_mask_file':\n",
        "        return get_region_mask\n",
        "    if args.masking_mode == 'random':\n",
        "        return get_random_region_mask\n",
        "    return None\n"
      ],
      "metadata": {
        "id": "1aBKw8j9kCvT"
      },
      "execution_count": null,
      "outputs": []
    },
    {
      "cell_type": "markdown",
      "source": [
        "# Train step"
      ],
      "metadata": {
        "id": "4_Ze42xBkDU1"
      }
    },
    {
      "cell_type": "code",
      "source": [
        "def train_epoch(\n",
        "        args: Namespace,\n",
        "        generator: torch.nn.Module,\n",
        "        discriminator: torch.nn.Module,\n",
        "        train_loader: DataLoader,\n",
        "        optim_g: torch.optim.Optimizer,\n",
        "        optim_d: torch.optim.Optimizer,\n",
        "        reconstruction_loss: Callable,\n",
        "        adversarial_loss: Callable,\n",
        "        epoch: int\n",
        "):\n",
        "    meters = AverageMeterSet()\n",
        "    get_mask = mask_getter()\n",
        "    generator.zero_grad()\n",
        "    generator.train()\n",
        "    discriminator.zero_grad()\n",
        "    discriminator.train()\n",
        "    real_labels = torch.ones(args.batch_size).to(args.device)\n",
        "    fake_labels = torch.zeros(args.batch_size).to(args.device)\n",
        "    if args.draw_progress_bar:\n",
        "        progress_bar = tqdm(range(len(train_loader)))\n",
        "    for batch_idx, (samples, _) in enumerate(train_loader):\n",
        "        samples = samples.to(args.device)\n",
        "        if not args.random_masking:\n",
        "            masked_samples, true_masked_part, mask_coordinates = get_mask(\n",
        "                samples, args.mask_size, args.overlap\n",
        "            )\n",
        "            masked_region = None\n",
        "        else:\n",
        "            if args.masking_mode == 'random':\n",
        "                masked_samples, masked_region = get_random_region_mask(\n",
        "                    samples, args.image_size, args.mask_area, GLOBAL_RANDOM_PATTERN\n",
        "                )\n",
        "            elif args.masking_mode == 'mask_file' or args.masking_mode == 'random_mask_file':\n",
        "                masked_samples, masked_region = get_region_mask(\n",
        "                    samples\n",
        "                )\n",
        "            else:\n",
        "                raise ValueError('Invalid masking_mode')\n",
        "            if args.patch_loss:\n",
        "                true_masked_part = torch.empty(samples.shape, dtype=torch.float32, device=args.device)\n",
        "                true_masked_part[:, 0, masked_region] = samples[:, 0, masked_region]\n",
        "                true_masked_part[:, 1, masked_region] = samples[:, 1, masked_region]\n",
        "                true_masked_part[:, 2, masked_region] = samples[:, 2, masked_region]\n",
        "            else:\n",
        "                true_masked_part = samples\n",
        "        discriminator.zero_grad()\n",
        "        outD_real = discriminator(true_masked_part)\n",
        "        lossD_real = adversarial_loss(outD_real, real_labels)\n",
        "        outG = generator(masked_samples)\n",
        "        outD_fake = discriminator(outG.detach())\n",
        "        lossD_fake = adversarial_loss(outD_fake, fake_labels)\n",
        "        lossD_total = (lossD_real + lossD_fake) * 0.5\n",
        "        lossD_total.backward()\n",
        "        optim_d.step()\n",
        "        generator.zero_grad()\n",
        "        outD_fake = discriminator(outG)\n",
        "        lossG_fake = adversarial_loss(outD_fake, real_labels)\n",
        "        l2_weights = get_l2_weights(args, outG.size(), masked_region)\n",
        "        lossG_recon = reconstruction_loss(\n",
        "            outG, true_masked_part, l2_weights.to(args.device)\n",
        "        )\n",
        "        lossG_total = (1 - args.w_rec) * lossG_fake + args.w_rec * lossG_recon\n",
        "        lossG_total.backward()\n",
        "        optim_g.step()\n",
        "        meters.update(\"lossG_adv\", lossG_fake.item(), 1)\n",
        "        meters.update(\"lossG_recon\", lossG_recon.item(), 1)\n",
        "        meters.update(\"lossG_total\", lossG_total.item(), 1)\n",
        "        meters.update(\"lossD_total\", lossD_total.item(), 1)\n",
        "        if args.draw_progress_bar:\n",
        "            progress_bar.set_description(\n",
        "                \"Train Epoch: {epoch:4}/{total_epochs:4}. Iter: {batch:4}/{iter:4}. LossG: {lossG_total:.4f}. \"\n",
        "                \"LossD Total: {lossD_total:.4f}.\".format(\n",
        "                    epoch=epoch + 1,\n",
        "                    total_epochs=args.epochs,\n",
        "                    batch=batch_idx + 1,\n",
        "                    iter=len(train_loader),\n",
        "                    lossG_total=meters[\"lossG_total\"],\n",
        "                    lossG_recon=meters[\"lossG_recon\"],\n",
        "                    lossG_adv=meters[\"lossG_adv\"],\n",
        "                    lossD_total=meters[\"lossD_total\"],\n",
        "                )\n",
        "            )\n",
        "            progress_bar.update()\n",
        "    if args.draw_progress_bar:\n",
        "        progress_bar.close()\n",
        "    if not args.random_masking:\n",
        "        recon_samples = samples.clone()\n",
        "        h, w = mask_coordinates\n",
        "        recon_samples[:, :, h : h + args.mask_size, w : w + args.mask_size] = outG\n",
        "    else:\n",
        "        recon_samples = outG\n",
        "    recon_grid = make_grid(\n",
        "        torch.cat([samples[:5], masked_samples[:5], recon_samples[:5]]),\n",
        "        nrow=5,\n",
        "        normalize=True,\n",
        "    )\n",
        "    return meters[\"lossG_total\"].avg, meters[\"lossG_recon\"].avg, meters[\"lossG_adv\"].avg, meters[\"lossD_total\"].avg, recon_grid"
      ],
      "metadata": {
        "id": "EP1GLFyckDpP"
      },
      "execution_count": null,
      "outputs": []
    },
    {
      "cell_type": "markdown",
      "source": [
        "# Training procces"
      ],
      "metadata": {
        "id": "0Jd9FgcCkEIp"
      }
    },
    {
      "cell_type": "code",
      "source": [
        "def train(args, train_loader, validation_loader, test_loader, writer, **kwargs):\n",
        "    save_path = kwargs.get(\"save_path\", args.out_dir)\n",
        "    args.mask_size = int(np.sqrt(args.mask_area) * args.image_size)\n",
        "    global GLOBAL_RANDOM_PATTERN\n",
        "    if args.random_masking:\n",
        "        GLOBAL_RANDOM_PATTERN = generate_random_pattern(args.mask_area, args.resolution, args.max_pattern_size)\n",
        "        out_size = args.image_size\n",
        "    else:\n",
        "        GLOBAL_RANDOM_PATTERN = None\n",
        "        out_size = args.mask_size\n",
        "    generator = MODEL_GETTERS[\"context_generator\"](\n",
        "        bottleneck_dim=args.bottleneck, img_size=args.image_size, out_size=out_size\n",
        "    )\n",
        "    discriminator = MODEL_GETTERS[\"context_discriminator\"](\n",
        "        bottleneck_dim=args.bottleneck, input_size=out_size\n",
        "    )\n",
        "    generator.apply(context_encoder_init)\n",
        "    generator.to(args.device)\n",
        "    discriminator.apply(context_encoder_init)\n",
        "    discriminator.to(args.device)\n",
        "    optim_g = get_optimizer(args, generator)\n",
        "    optim_d = get_optimizer(args, discriminator)\n",
        "    adversarial_loss = nn.BCELoss().to(args.device)\n",
        "    reconstruction_loss = weighted_mse_loss\n",
        "    losses_d_train = []\n",
        "    losses_g_train = []\n",
        "    losses_g_eval = []\n",
        "    for epoch in range(args.epochs):\n",
        "        lossG_total, lossG_recon, lossG_adv, lossD_total, train_recon_grid = train_epoch(\n",
        "            args,\n",
        "            generator,\n",
        "            discriminator,\n",
        "            train_loader,\n",
        "            optim_g,\n",
        "            optim_d,\n",
        "            reconstruction_loss,\n",
        "            adversarial_loss,\n",
        "            epoch,\n",
        "        )\n",
        "        losses_d_train.append(lossD_total)\n",
        "        losses_g_train.append(lossG_total)\n",
        "        test_lossG_total, test_recon_grid = evaluate(\n",
        "            args,\n",
        "            test_loader,\n",
        "            generator,\n",
        "            args.mask_size,\n",
        "            args.overlap,\n",
        "            GLOBAL_RANDOM_PATTERN,\n",
        "            reconstruction_loss,\n",
        "            epoch,\n",
        "            descriptor=\"Test\",\n",
        "        )\n",
        "        losses_g_eval.append(test_lossG_total)\n",
        "        writer.add_scalar(\"Loss/train_lossG_total\", lossG_total, epoch)\n",
        "        writer.add_scalar(\"Loss/train_lossG_recon\", lossG_recon, epoch)\n",
        "        writer.add_scalar(\"Loss/train_lossG_adv\", lossG_adv, epoch)\n",
        "        writer.add_scalar(\"Loss/train_lossD_total\", lossD_total, epoch)\n",
        "        writer.add_scalar(\"Loss/testt_lossG_total\", test_lossG_total, epoch)\n",
        "        writer.add_image(\"train_reconstructions\", train_recon_grid, epoch)\n",
        "        writer.add_image(\"test_reconstructions\", test_recon_grid, epoch)\n",
        "        writer.flush()\n",
        "        if args.show_graphs:\n",
        "            plt.plot([i for i in range(len(losses_g_train))], losses_g_train, label='Training loss')\n",
        "            plt.plot([i for i in range(len(losses_g_eval))], losses_g_eval, label='Test/Validation loss')\n",
        "            plt.legend(loc=\"upper right\")\n",
        "            plt.xlabel(\"epochs\")\n",
        "            plt.ylabel(\"avg loss\")\n",
        "            plt.show()\n",
        "        if epoch % args.checkpoint_interval == 0 and args.save:\n",
        "            save_state(epoch, generator, discriminator, optim_g, optim_d, save_path, \"checkpoint_{}.tar\".format(epoch))\n",
        "    writer.close()\n",
        "    save_state(epoch, generator, discriminator, optim_g, optim_d, save_path, \"last_model.tar\")\n",
        "    return generator, discriminator, writer"
      ],
      "metadata": {
        "id": "txJQwblikEyJ"
      },
      "execution_count": null,
      "outputs": []
    },
    {
      "cell_type": "markdown",
      "source": [
        "# Validation procces"
      ],
      "metadata": {
        "id": "pFBRARO-kFTI"
      }
    },
    {
      "cell_type": "code",
      "source": [
        "def evaluate(\n",
        "        args,\n",
        "        data_loader: DataLoader,\n",
        "        generator: nn.Module,\n",
        "        mask_size: int,\n",
        "        overlap: int,\n",
        "        global_pattern: Optional[torch.Tensor],\n",
        "        reconstruction_loss,\n",
        "        epoch: int,\n",
        "        descriptor: str = \"Test\"\n",
        "):\n",
        "    meters = AverageMeterSet()\n",
        "    get_mask = mask_getter()\n",
        "    generator.eval()\n",
        "    if args.draw_progress_bar:\n",
        "        progress_bar = tqdm(range(len(data_loader)))\n",
        "    with torch.no_grad():\n",
        "        for i, (samples, _) in enumerate(data_loader):\n",
        "            samples = samples.to(args.device)\n",
        "            if not args.random_masking:\n",
        "                masked_samples, true_masked_part, mask_coordinates = get_mask(\n",
        "                    samples, args.mask_size, args.overlap\n",
        "                )\n",
        "                masked_region = None\n",
        "            else:\n",
        "                if args.masking_mode == 'random':\n",
        "                    masked_samples, masked_region = get_random_region_mask(\n",
        "                        samples, args.image_size, args.mask_area, global_pattern\n",
        "                    )\n",
        "                elif args.masking_mode == 'mask_file' or args.masking_mode == 'random_mask_file':\n",
        "                    masked_samples, masked_region = get_region_mask(samples)\n",
        "                if args.patch_loss:\n",
        "                    true_masked_part = torch.empty(samples.shape, dtype=torch.float32, device=args.device)\n",
        "                    true_masked_part[:, 0, masked_region] = samples[:, 0, masked_region]\n",
        "                    true_masked_part[:, 1, masked_region] = samples[:, 1, masked_region]\n",
        "                    true_masked_part[:, 2, masked_region] = samples[:, 2, masked_region]\n",
        "                else:\n",
        "                    true_masked_part = samples\n",
        "            outG = generator(masked_samples)\n",
        "            l2_weights = get_l2_weights(args, outG.size(), masked_region)\n",
        "            lossG_recon = reconstruction_loss(outG, true_masked_part, l2_weights.to(args.device))\n",
        "            meters.update(\"lossG_recon\", lossG_recon.item(), 1)\n",
        "            if args.draw_progress_bar:\n",
        "                progress_bar.set_description(\n",
        "                    \"{descriptor}: Epoch: {epoch:4}. Iter: {batch:4}/{iter:4}. LossG Recon: {lossG_recon:.4f}.\".format(\n",
        "                        descriptor=descriptor,\n",
        "                        epoch=epoch + 1,\n",
        "                        batch=i + 1,\n",
        "                        iter=len(data_loader),\n",
        "                        lossG_recon=meters[\"lossG_recon\"],\n",
        "                    )\n",
        "                )\n",
        "                progress_bar.update()\n",
        "        progress_bar.close()\n",
        "    if not args.random_masking:\n",
        "        recon_samples = samples.clone()\n",
        "        h, w = mask_coordinates\n",
        "        recon_samples[:, :, h: h + mask_size, w: w + mask_size] = outG\n",
        "    else:\n",
        "        recon_samples = outG\n",
        "    comb = samples.clone()\n",
        "    comb[:, 0, masked_region] = recon_samples[:, 0, masked_region]\n",
        "    comb[:, 1, masked_region] = recon_samples[:, 1, masked_region]\n",
        "    comb[:, 2, masked_region] = recon_samples[:, 2, masked_region]\n",
        "    print_size = samples.size(dim=0)\n",
        "    recon_grid = make_grid(torch.cat([samples[:print_size], masked_samples[:print_size], recon_samples[:print_size], comb[:print_size]]),\n",
        "        nrow=print_size, normalize=True)\n",
        "    save_image(recon_grid, f\"/content/drive/MyDrive/out/images/epoch-{epoch + 1}.png\")\n",
        "    show_image(make_grid(torch.cat([samples[:2], masked_samples[:2], recon_samples[:2], comb[:2]]), nrow=2, normalize=True))\n",
        "    return meters[\"lossG_recon\"].avg, recon_grid\n"
      ],
      "metadata": {
        "id": "Fa82iZz5kFpq"
      },
      "execution_count": null,
      "outputs": []
    },
    {
      "cell_type": "markdown",
      "source": [
        "# Displaying results"
      ],
      "metadata": {
        "id": "_xYriwWlkG61"
      }
    },
    {
      "cell_type": "code",
      "source": [
        "def show_image(imgs):\n",
        "    if not args.show_plots:\n",
        "        return\n",
        "    if not isinstance(imgs, list):\n",
        "        imgs = [imgs]\n",
        "    fix, axs = plt.subplots(ncols=len(imgs), squeeze=False)\n",
        "    for i, img in enumerate(imgs):\n",
        "        img = img.detach()\n",
        "        img = tfF.to_pil_image(img)\n",
        "        axs[0, i].imshow(np.asarray(img))\n",
        "        axs[0, i].set(xticklabels=[], yticklabels=[], xticks=[], yticks=[])\n",
        "    plt.show()"
      ],
      "metadata": {
        "id": "YGt_9DQ3kHXo"
      },
      "execution_count": null,
      "outputs": []
    },
    {
      "cell_type": "markdown",
      "source": [
        "# Image augmentations"
      ],
      "metadata": {
        "id": "p1bn0eNzkH1H"
      }
    },
    {
      "cell_type": "code",
      "source": [
        "def get_weak_transforms() -> List:\n",
        "    return [(translateX, 0, 0.125), (translateY, 0, 0.125), (random_horizontal_flip, None, None)]\n",
        "\n",
        "\n",
        "def identity(img: Image, _) -> Image:\n",
        "    return img\n",
        "\n",
        "\n",
        "def translateX(img: Image, mag: float):\n",
        "    mag = mag * img.size[0]\n",
        "    return img.transform(img.size, Image.AFFINE, (1, 0, mag * random.choice([-1, 1]), 0, 1, 0))\n",
        "\n",
        "\n",
        "def translateY(img: Image, mag: float):\n",
        "    mag = mag * img.size[1]\n",
        "    return img.transform(img.size, Image.AFFINE, (1, 0, 0, 0, 1, mag * random.choice([-1, 1])))\n",
        "\n",
        "\n",
        "def shearX(img: Image, mag: float):\n",
        "    return img.transform(img.size, Image.AFFINE, (1, mag * random.choice([-1, 1]), 0, 0, 1, 0))\n",
        "\n",
        "\n",
        "def shearY(img: Image, mag: float) -> Image:\n",
        "    return img.transform(img.size, Image.AFFINE, (1, 0, 0, mag * random.choice([-1, 1]), 1, 0))\n",
        "\n",
        "\n",
        "def rotate(img: Image, mag: float) -> Image:\n",
        "    return img.rotate(mag * random.choice([-1, 1]))\n",
        "\n",
        "\n",
        "def brightness(img: Image, mag: float) -> Image:\n",
        "    assert 0.0 <= mag <= 2.0\n",
        "    return ImageEnhance.Brightness(img).enhance(mag)\n",
        "\n",
        "\n",
        "def sharpness(img: Image, mag: float) -> Image:\n",
        "    assert 0.0 <= mag <= 2.0\n",
        "    return ImageEnhance.Sharpness(img).enhance(mag)\n",
        "\n",
        "\n",
        "def equalize(img: Image, _) -> Image:\n",
        "    return ImageOps.equalize(img)\n",
        "\n",
        "\n",
        "def color(img: Image, mag: float) -> Image:\n",
        "    assert 0.0 <= mag <= 2.0\n",
        "    return ImageEnhance.Color(img).enhance(mag)\n",
        "\n",
        "\n",
        "def auto_contrast(img: Image, mag: float) -> Image:\n",
        "    assert 0.0 <= mag <= 1.0\n",
        "    return ImageOps.autocontrast(img, mag)\n",
        "\n",
        "\n",
        "def contrast(img: Image, mag: float) -> Image:\n",
        "    assert 0.0 <= mag <= 2.0\n",
        "    return ImageEnhance.Contrast(img).enhance(mag)\n",
        "\n",
        "\n",
        "def posterize(img: Image, mag: float) -> Image:\n",
        "    assert 1 <= int(mag) <= 8\n",
        "    return ImageOps.posterize(img, int(mag))\n",
        "\n",
        "\n",
        "def solarize(img: Image, mag: float) -> Image:\n",
        "    assert 0 <= int(mag) < 256\n",
        "    return ImageOps.solarize(img, int(mag))\n",
        "\n",
        "\n",
        "def random_horizontal_flip(img: Image, _, p: float = 0.5):\n",
        "    if random.uniform(0, 1) <= p:\n",
        "        img = ImageOps.mirror(img)\n",
        "    return img\n",
        "\n",
        "\n",
        "def cutout(img: Image, mag: float):\n",
        "    assert 0.0 <= mag <= 1\n",
        "    mag = mag * img.size[0]\n",
        "    return cutout_abs(img, mag)\n",
        "\n",
        "\n",
        "def cutout_abs(img: Image, mag: float = 0.5):\n",
        "    if mag < 0:\n",
        "        return img\n",
        "    w, h = img.size\n",
        "    x0 = np.random.uniform(w)\n",
        "    y0 = np.random.uniform(h)\n",
        "    x0 = int(max(0, x0 - mag / 2.0))\n",
        "    y0 = int(max(0, y0 - mag / 2.0))\n",
        "    x1 = min(w, x0 + mag)\n",
        "    y1 = min(h, y0 + mag)\n",
        "    xy = (x0, y0, x1, y1)\n",
        "    color = (125, 123, 114)\n",
        "    img = img.copy()\n",
        "    ImageDraw.Draw(img).rectangle(xy, color)\n",
        "    return img\n",
        "\n",
        "\n",
        "def get_weak_augmentation(img_size: int = 32, padding: int = 4, padding_mode: str = \"reflect\"):\n",
        "    return transforms.Compose([transforms.RandomCrop(img_size, padding=padding, padding_mode=padding_mode),\n",
        "                               transforms.RandomHorizontalFlip()])\n",
        "\n",
        "\n",
        "def augment():\n",
        "    base_path = os.path.join(args.data_dir, args.dataset_folder)\n",
        "    class_paths = list(\n",
        "        map(\n",
        "            lambda x: os.path.join(base_path, args.dataset_folder, x),\n",
        "            filter(\n",
        "                lambda x: x.endswith(\".jpg\"),\n",
        "                sorted(os.listdir(os.path.join(base_path, args.dataset_folder))),\n",
        "            )\n",
        "        )\n",
        "    )\n",
        "    if args.augment_to_size is None:\n",
        "        return\n",
        "    loops_needed = int(args.augment_to_size / len(class_paths))\n",
        "    for loop in range(loops_needed):\n",
        "        for image_path in class_paths:\n",
        "            aug = RandAugment(args.augmentation_operations)\n",
        "            original = Image.open(image_path)\n",
        "            augmented_image = aug(original)\n",
        "            augmented_image.save(f\"{image_path}_aug{loop}.jpg\")\n",
        "\n",
        "\n",
        "def get_randaug_list() -> List:\n",
        "    return [\n",
        "        (translateX, 0, 0.3),\n",
        "        (translateY, 0, 0.3),\n",
        "        (shearX, 0, 0.3),\n",
        "        (shearY, 0, 0.3),\n",
        "        (rotate, 0, 30),\n",
        "        (brightness, 0.1, 1.9),\n",
        "        (sharpness, 0.1, 1.9),\n",
        "        (equalize, None, None),\n",
        "        (color, 0.1, 1.9),\n",
        "        (auto_contrast, 0.05, 0.95),\n",
        "        (posterize, 4, 8),\n",
        "        (solarize, 0, 255),\n",
        "        (contrast, 0.1, 1.9),\n",
        "        (identity, None, None)]\n",
        "\n",
        "\n",
        "class RandAugment:\n",
        "    def __init__(self, n: int, m: int = 5, max_scale: int = 30, randomized_magnitude: bool = False):\n",
        "        assert (m <= max_scale)\n",
        "        self.N = n\n",
        "        self.M = m\n",
        "        self.cutout = cutout\n",
        "        self.max_scale = max_scale\n",
        "        self.randomized_magnitude = randomized_magnitude\n",
        "        self.augmentation_list = get_randaug_list()\n",
        "\n",
        "    def __call__(self, img: Image):\n",
        "        augmentations = random.choices(self.augmentation_list, k=self.N)\n",
        "        for transform, range_min, range_max in augmentations:\n",
        "            magnitude = self.get_transformation_magnitude(range_min, range_max)\n",
        "            img = transform(img, magnitude)\n",
        "        return img\n",
        "\n",
        "    def get_transformation_magnitude(self, range_min: float, range_max: float):\n",
        "        if range_min is None or range_max is None:\n",
        "            return None\n",
        "        magnitude = random.randint(0, self.M) if self.randomized_magnitude else self.M\n",
        "        return range_min + (range_max - range_min) / self.max_scale * magnitude\n"
      ],
      "metadata": {
        "id": "N058uaRHkILQ"
      },
      "execution_count": null,
      "outputs": []
    },
    {
      "cell_type": "markdown",
      "source": [
        "# Main function"
      ],
      "metadata": {
        "id": "guEtpMsAkInZ"
      }
    },
    {
      "cell_type": "code",
      "source": [
        "if __name__ == '__main__':\n",
        "    if not args.only_evaluate:\n",
        "        augment()\n",
        "        save_path = get_save_path()\n",
        "        initialize_logger(save_path)\n",
        "        seed_arg = seed(args.random_seed, args.seed)\n",
        "        logger.info(\"Seed is set to {}\".format(seed_arg))\n",
        "        writer = SummaryWriter(save_path)\n",
        "        initial_indices = None\n",
        "        transform_dict = get_transform_dict(args)\n",
        "        train_set, validation_set, test_set = get_datasets(\n",
        "            args.data_dir,\n",
        "            args.dataset,\n",
        "            args.num_validation,\n",
        "            args.is_pct,\n",
        "            transform_dict[\"train\"],\n",
        "            transform_dict[\"test\"],\n",
        "            dataset_indices=initial_indices\n",
        "        )\n",
        "        save_dataset_indices(save_path, train_set, validation_set)\n",
        "        args.iters_per_epoch = (len(train_set) // args.batch_size) + 1\n",
        "        train_loader, validation_loader, test_loader = create_loaders(\n",
        "            args,\n",
        "            train_set,\n",
        "            validation_set,\n",
        "            test_set,\n",
        "            args.batch_size,\n",
        "            total_iters=args.iters_per_epoch,\n",
        "            num_workers=args.num_workers\n",
        "        )\n",
        "        logger.info(\"\\t- Train set size: {}\".format(len(train_set)))\n",
        "        logger.info(\"\\t- Validation/Test set size: {}\".format(len(test_set)))\n",
        "        train(\n",
        "            args,\n",
        "            train_loader,\n",
        "            validation_loader,\n",
        "            test_loader,\n",
        "            writer,\n",
        "            save_path=save_path\n",
        "        )\n",
        "        save_args(args, save_path)\n",
        "    else:\n",
        "        _, test_set = get_base_sets(args.dataset, args.data_dir, test_transform=get_normalizer(args.dataset))\n",
        "        test_loader = DataLoader(\n",
        "            test_set,\n",
        "            batch_size=args.batch_size,\n",
        "            num_workers=args.num_workers,\n",
        "            shuffle=False,\n",
        "            pin_memory=args.pin_memory,\n",
        "        )\n",
        "        if args.random_masking:\n",
        "            out_size = args.image_size\n",
        "        else:\n",
        "            out_size = args.mask_size\n",
        "        generator = MODEL_GETTERS[\"context_generator\"](\n",
        "            bottleneck_dim=args.bottleneck, img_size=args.image_size, out_size=out_size\n",
        "        )\n",
        "        checkpoint_file = next(filter(lambda x: x.endswith('.tar'), sorted(os.listdir(args.best_model_path), reverse=True)))\n",
        "        saved_state = load_state(os.path.join(args.best_model_path, checkpoint_file), map_location=args.device)\n",
        "        generator.load_state_dict(saved_state['generator_state_dict'])\n",
        "        random_pattern = generate_random_pattern(args.mask_area, args.resolution, args.max_pattern_size)\n",
        "        lossG_recon, recon_grid = evaluate(\n",
        "            args,\n",
        "            test_loader,\n",
        "            generator,\n",
        "            args.mask_size,\n",
        "            args.overlap,\n",
        "            random_pattern,\n",
        "            weighted_mse_loss,\n",
        "            saved_state['epoch']\n",
        "        )\n",
        "        grid_save_path = os.path.join(args.best_model_path, f\"test_result-{random.random()}.png\")\n",
        "        print('Test dataset'.center(50, '-'))\n",
        "        print(f'\\t - Dataset {args.dataset}')\n",
        "        print(f'\\t - Test metrics:')\n",
        "        print(f'\\t\\t Reconstruction loss: {lossG_recon}')\n",
        "        print(f'Saving test reconstruction grid to {grid_save_path}.')\n",
        "        save_image(recon_grid, grid_save_path)\n"
      ],
      "metadata": {
        "id": "gUW4omkzkJA6",
        "colab": {
          "base_uri": "https://localhost:8080/",
          "height": 361
        },
        "outputId": "6bb492b5-8288-48c1-ca7a-957149aa0f04"
      },
      "execution_count": null,
      "outputs": [
        {
          "output_type": "stream",
          "name": "stderr",
          "text": [
            "Test: Epoch:  100. Iter:    1/   1. LossG Recon: 0.9395 (0.9395).: 100%|██████████| 1/1 [00:00<00:00,  2.53it/s]\n"
          ]
        },
        {
          "output_type": "display_data",
          "data": {
            "text/plain": [
              "<Figure size 432x288 with 1 Axes>"
            ],
            "image/png": "[encoded data removed]"
          },
          "metadata": {}
        },
        {
          "output_type": "stream",
          "name": "stdout",
          "text": [
            "-------------------Test dataset-------------------\n",
            "\t - Dataset test\n",
            "\t - Test metrics:\n",
            "\t\t Reconstruction loss: 0.9395347833633423\n",
            "Saving test reconstruction grid to /content/drive/MyDrive/Deep Learning/models/model_photo/test_result-0.6608066135334559.png.\n"
          ]
        }
      ]
    }
  ]
}